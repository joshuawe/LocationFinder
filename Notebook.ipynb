{
 "cells": [
  {
   "cell_type": "code",
   "execution_count": 19,
   "metadata": {},
   "outputs": [
    {
     "name": "stdout",
     "output_type": "stream",
     "text": [
      "Location:\tlat lon\n",
      "Inneringen Baden Württemberg :\t48.1900768° 9.2808899°\n",
      "Thale, Sachsen Anhalt :\t51.7527606° 11.037722°\n",
      "Göttingen, Niedersachsen :\t51.5328328° 9.9351811°\n",
      "München :\t48.1371079° 11.5753822°\n",
      "Plansee, Österreich :\t47.4743297° 10.81288488390293°\n",
      "München :\t48.1371079° 11.5753822°\n",
      "St. Petersburg, Russland :\t59.917857350000006° 30.380619357025516°\n",
      "Helsinki, Finnland :\t60.1674881° 24.9427473°\n",
      "Frankfurt :\t50.1106444° 8.6820917°\n",
      "Saarbrücken  :\t49.234362° 6.996379°\n",
      "Göttingen  :\t51.5328328° 9.9351811°\n",
      "Frankfurt :\t50.1106444° 8.6820917°\n",
      "München  :\t48.1371079° 11.5753822°\n",
      "Frankfurt :\t50.1106444° 8.6820917°\n",
      "München  :\t48.1371079° 11.5753822°\n",
      "Berlin :\t52.5170365° 13.3888599°\n",
      "Frankfurt  :\t50.1106444° 8.6820917°\n",
      "Düsseldorf  :\t51.2254018° 6.7763137°\n",
      "Frankfurt :\t50.1106444° 8.6820917°\n",
      "Leipzig :\t51.3406321° 12.3747329°\n",
      "Frankfurt :\t50.1106444° 8.6820917°\n",
      "München :\t48.1371079° 11.5753822°\n"
     ]
    }
   ],
   "source": [
    "import requests, json, pandas as pd\n",
    "\n",
    "def get_lon_lat(location):\n",
    "    x = requests.get(\"https://geocode.maps.co/search?q=\" + location)\n",
    "    j = json.loads(x.text)\n",
    "    lat, lon = j[0][\"lat\"].strip(), j[0][\"lon\"].strip()\n",
    "    return lon, lat\n",
    "\n",
    "\n",
    "path_csv = \"Travelmap 2022.csv\"\n",
    "table = pd.read_csv(path_csv)\n",
    "\n",
    "print(\"Location:\\tlat lon\")\n",
    "for index, line in table.iterrows():\n",
    "    if (pd.isna(line[\"lon\"]) or pd.isna(line[\"lat\"])):\n",
    "        location = line[\"Place\"]\n",
    "        lon, lat = get_lon_lat(location)\n",
    "        line[\"lon\"] = lon\n",
    "        line[\"lat\"] = lat\n",
    "        print(location, \":\\t\" + lat + \"° \" + lon + \"°\")\n"
   ]
  },
  {
   "cell_type": "code",
   "execution_count": 2,
   "metadata": {},
   "outputs": [],
   "source": [
    "import plotly.express"
   ]
  },
  {
   "cell_type": "code",
   "execution_count": 3,
   "metadata": {},
   "outputs": [
    {
     "data": {
      "application/vnd.plotly.v1+json": {
       "config": {
        "plotlyServerURL": "https://plot.ly"
       },
       "data": [
        {
         "lat": [
          null,
          null
         ],
         "line": {
          "color": "purple",
          "dash": "dot",
          "width": 1
         },
         "lon": [
          null,
          null
         ],
         "mode": "lines",
         "name": "Train",
         "textfont": {
          "size": 10
         },
         "textposition": "top center",
         "type": "scattergeo"
        },
        {
         "lat": [
          null,
          null
         ],
         "line": {
          "color": "purple",
          "dash": "dot",
          "width": 1
         },
         "lon": [
          null,
          null
         ],
         "mode": "lines",
         "name": "Train",
         "textfont": {
          "size": 10
         },
         "textposition": "top center",
         "type": "scattergeo"
        },
        {
         "lat": [
          null,
          null
         ],
         "line": {
          "color": "purple",
          "dash": "dot",
          "width": 1
         },
         "lon": [
          null,
          null
         ],
         "mode": "lines",
         "name": "Train",
         "textfont": {
          "size": 10
         },
         "textposition": "top center",
         "type": "scattergeo"
        },
        {
         "lat": [
          null,
          null
         ],
         "line": {
          "color": "black",
          "dash": "solid",
          "width": 1
         },
         "lon": [
          null,
          null
         ],
         "mode": "lines",
         "name": "Car",
         "textfont": {
          "size": 10
         },
         "textposition": "top center",
         "type": "scattergeo"
        },
        {
         "lat": [
          null,
          null
         ],
         "line": {
          "color": "black",
          "dash": "solid",
          "width": 1
         },
         "lon": [
          null,
          null
         ],
         "mode": "lines",
         "name": "Car",
         "textfont": {
          "size": 10
         },
         "textposition": "top center",
         "type": "scattergeo"
        },
        {
         "lat": [
          null,
          null
         ],
         "line": {
          "color": "Red",
          "dash": "dashdot",
          "width": 1
         },
         "lon": [
          null,
          null
         ],
         "mode": "lines",
         "name": "Plane",
         "textfont": {
          "size": 10
         },
         "textposition": "top center",
         "type": "scattergeo"
        },
        {
         "lat": [
          null,
          null
         ],
         "line": {
          "color": "Green",
          "dash": "solid",
          "width": 1
         },
         "lon": [
          null,
          null
         ],
         "mode": "lines",
         "name": "Bus",
         "textfont": {
          "size": 10
         },
         "textposition": "top center",
         "type": "scattergeo"
        },
        {
         "lat": [
          null,
          null
         ],
         "line": {
          "color": "Red",
          "dash": "dashdot",
          "width": 1
         },
         "lon": [
          null,
          null
         ],
         "mode": "lines",
         "name": "Plane",
         "textfont": {
          "size": 10
         },
         "textposition": "top center",
         "type": "scattergeo"
        },
        {
         "lat": [
          null,
          null
         ],
         "line": {
          "color": "purple",
          "dash": "dot",
          "width": 1
         },
         "lon": [
          null,
          null
         ],
         "mode": "lines",
         "name": "Train",
         "textfont": {
          "size": 10
         },
         "textposition": "top center",
         "type": "scattergeo"
        },
        {
         "lat": [
          null,
          null
         ],
         "line": {
          "color": "purple",
          "dash": "dot",
          "width": 1
         },
         "lon": [
          null,
          null
         ],
         "mode": "lines",
         "name": "Train",
         "textfont": {
          "size": 10
         },
         "textposition": "top center",
         "type": "scattergeo"
        },
        {
         "lat": [
          null,
          null
         ],
         "line": {
          "color": "purple",
          "dash": "dot",
          "width": 1
         },
         "lon": [
          null,
          null
         ],
         "mode": "lines",
         "name": "Train",
         "textfont": {
          "size": 10
         },
         "textposition": "top center",
         "type": "scattergeo"
        },
        {
         "lat": [
          null,
          null
         ],
         "line": {
          "color": "purple",
          "dash": "dot",
          "width": 1
         },
         "lon": [
          null,
          null
         ],
         "mode": "lines",
         "name": "Train",
         "textfont": {
          "size": 10
         },
         "textposition": "top center",
         "type": "scattergeo"
        },
        {
         "lat": [
          null,
          null
         ],
         "line": {
          "color": "purple",
          "dash": "dot",
          "width": 1
         },
         "lon": [
          null,
          null
         ],
         "mode": "lines",
         "name": "Train",
         "textfont": {
          "size": 10
         },
         "textposition": "top center",
         "type": "scattergeo"
        },
        {
         "lat": [
          null,
          null
         ],
         "line": {
          "color": "purple",
          "dash": "dot",
          "width": 1
         },
         "lon": [
          null,
          null
         ],
         "mode": "lines",
         "name": "Train",
         "textfont": {
          "size": 10
         },
         "textposition": "top center",
         "type": "scattergeo"
        },
        {
         "lat": [
          null,
          null
         ],
         "line": {
          "color": "purple",
          "dash": "dot",
          "width": 1
         },
         "lon": [
          null,
          null
         ],
         "mode": "lines",
         "name": "Train",
         "textfont": {
          "size": 10
         },
         "textposition": "top center",
         "type": "scattergeo"
        },
        {
         "lat": [
          null,
          null
         ],
         "line": {
          "color": "purple",
          "dash": "dot",
          "width": 1
         },
         "lon": [
          null,
          null
         ],
         "mode": "lines",
         "name": "Train",
         "textfont": {
          "size": 10
         },
         "textposition": "top center",
         "type": "scattergeo"
        },
        {
         "lat": [
          null,
          null
         ],
         "line": {
          "color": "purple",
          "dash": "dot",
          "width": 1
         },
         "lon": [
          null,
          null
         ],
         "mode": "lines",
         "name": "Train",
         "textfont": {
          "size": 10
         },
         "textposition": "top center",
         "type": "scattergeo"
        },
        {
         "lat": [
          null,
          null
         ],
         "line": {
          "color": "purple",
          "dash": "dot",
          "width": 1
         },
         "lon": [
          null,
          null
         ],
         "mode": "lines",
         "name": "Train",
         "textfont": {
          "size": 10
         },
         "textposition": "top center",
         "type": "scattergeo"
        },
        {
         "lat": [
          null,
          null
         ],
         "line": {
          "color": "black",
          "dash": "solid",
          "width": 1
         },
         "lon": [
          null,
          null
         ],
         "mode": "lines",
         "name": "Car",
         "textfont": {
          "size": 10
         },
         "textposition": "top center",
         "type": "scattergeo"
        },
        {
         "lat": [
          null,
          null
         ],
         "line": {
          "color": "black",
          "dash": "solid",
          "width": 1
         },
         "lon": [
          null,
          null
         ],
         "mode": "lines",
         "name": "Car",
         "textfont": {
          "size": 10
         },
         "textposition": "top center",
         "type": "scattergeo"
        },
        {
         "lat": [
          null,
          null
         ],
         "line": {
          "color": "purple",
          "dash": "dot",
          "width": 1
         },
         "lon": [
          null,
          null
         ],
         "mode": "lines",
         "name": "Train",
         "textfont": {
          "size": 10
         },
         "textposition": "top center",
         "type": "scattergeo"
        },
        {
         "hoverinfo": "text",
         "lat": [
          null,
          null,
          null,
          null,
          null,
          null,
          null,
          null,
          null,
          null,
          null,
          null,
          null,
          null,
          null,
          null,
          null,
          null,
          null,
          null,
          null,
          null
         ],
         "lon": [
          null,
          null,
          null,
          null,
          null,
          null,
          null,
          null,
          null,
          null,
          null,
          null,
          null,
          null,
          null,
          null,
          null,
          null,
          null,
          null,
          null,
          null
         ],
         "marker": {
          "color": "Red",
          "size": 8
         },
         "mode": "markers",
         "text": [
          "Inneringen Baden Württemberg",
          "Thale, Sachsen Anhalt",
          "Göttingen, Niedersachsen",
          "München",
          "Plansee, Österreich",
          "München",
          "St. Petersburg, Russland",
          "Helsinki, Finnland",
          "Frankfurt",
          "Saarbrücken ",
          "Göttingen ",
          "Frankfurt",
          "München ",
          "Frankfurt",
          "München ",
          "Berlin",
          "Frankfurt ",
          "Düsseldorf ",
          "Frankfurt",
          "Leipzig",
          "Frankfurt",
          "München"
         ],
         "textfont": {
          "size": 10
         },
         "textposition": "top center",
         "type": "scattergeo"
        },
        {
         "lat": [
          null
         ],
         "lon": [
          null
         ],
         "mode": "text",
         "text": "Inneringen Baden Württemberg",
         "textfont": {
          "size": 10
         },
         "textposition": "top center",
         "type": "scattergeo"
        },
        {
         "lat": [
          null
         ],
         "lon": [
          null
         ],
         "mode": "text",
         "text": "Thale, Sachsen Anhalt",
         "textfont": {
          "size": 10
         },
         "textposition": "top center",
         "type": "scattergeo"
        },
        {
         "lat": [
          null
         ],
         "lon": [
          null
         ],
         "mode": "text",
         "text": "Göttingen, Niedersachsen",
         "textfont": {
          "size": 10
         },
         "textposition": "top center",
         "type": "scattergeo"
        },
        {
         "lat": [
          null
         ],
         "lon": [
          null
         ],
         "mode": "text",
         "text": "München",
         "textfont": {
          "size": 10
         },
         "textposition": "top center",
         "type": "scattergeo"
        },
        {
         "lat": [
          null
         ],
         "lon": [
          null
         ],
         "mode": "text",
         "text": "Plansee, Österreich",
         "textfont": {
          "size": 10
         },
         "textposition": "top center",
         "type": "scattergeo"
        },
        {
         "lat": [
          null
         ],
         "lon": [
          null
         ],
         "mode": "text",
         "text": "St. Petersburg, Russland",
         "textfont": {
          "size": 10
         },
         "textposition": "top center",
         "type": "scattergeo"
        },
        {
         "lat": [
          null
         ],
         "lon": [
          null
         ],
         "mode": "text",
         "text": "Helsinki, Finnland",
         "textfont": {
          "size": 10
         },
         "textposition": "top center",
         "type": "scattergeo"
        },
        {
         "lat": [
          null
         ],
         "lon": [
          null
         ],
         "mode": "text",
         "text": "Frankfurt",
         "textfont": {
          "size": 10
         },
         "textposition": "top center",
         "type": "scattergeo"
        },
        {
         "lat": [
          null
         ],
         "lon": [
          null
         ],
         "mode": "text",
         "text": "Saarbrücken ",
         "textfont": {
          "size": 10
         },
         "textposition": "top center",
         "type": "scattergeo"
        },
        {
         "lat": [
          null
         ],
         "lon": [
          null
         ],
         "mode": "text",
         "text": "Göttingen ",
         "textfont": {
          "size": 10
         },
         "textposition": "top center",
         "type": "scattergeo"
        },
        {
         "lat": [
          null
         ],
         "lon": [
          null
         ],
         "mode": "text",
         "text": "München ",
         "textfont": {
          "size": 10
         },
         "textposition": "top center",
         "type": "scattergeo"
        },
        {
         "lat": [
          null
         ],
         "lon": [
          null
         ],
         "mode": "text",
         "text": "Berlin",
         "textfont": {
          "size": 10
         },
         "textposition": "top center",
         "type": "scattergeo"
        },
        {
         "lat": [
          null
         ],
         "lon": [
          null
         ],
         "mode": "text",
         "text": "Frankfurt ",
         "textfont": {
          "size": 10
         },
         "textposition": "top center",
         "type": "scattergeo"
        },
        {
         "lat": [
          null
         ],
         "lon": [
          null
         ],
         "mode": "text",
         "text": "Düsseldorf ",
         "textfont": {
          "size": 10
         },
         "textposition": "top center",
         "type": "scattergeo"
        },
        {
         "lat": [
          null
         ],
         "lon": [
          null
         ],
         "mode": "text",
         "text": "Leipzig",
         "textfont": {
          "size": 10
         },
         "textposition": "top center",
         "type": "scattergeo"
        }
       ],
       "layout": {
        "geo": {
         "fitbounds": "locations",
         "landcolor": "rgb(255,255,255)",
         "oceancolor": "rgb(100,150,250)",
         "showcountries": true,
         "showland": true,
         "showocean": true
        },
        "template": {
         "data": {
          "bar": [
           {
            "error_x": {
             "color": "#2a3f5f"
            },
            "error_y": {
             "color": "#2a3f5f"
            },
            "marker": {
             "line": {
              "color": "#E5ECF6",
              "width": 0.5
             },
             "pattern": {
              "fillmode": "overlay",
              "size": 10,
              "solidity": 0.2
             }
            },
            "type": "bar"
           }
          ],
          "barpolar": [
           {
            "marker": {
             "line": {
              "color": "#E5ECF6",
              "width": 0.5
             },
             "pattern": {
              "fillmode": "overlay",
              "size": 10,
              "solidity": 0.2
             }
            },
            "type": "barpolar"
           }
          ],
          "carpet": [
           {
            "aaxis": {
             "endlinecolor": "#2a3f5f",
             "gridcolor": "white",
             "linecolor": "white",
             "minorgridcolor": "white",
             "startlinecolor": "#2a3f5f"
            },
            "baxis": {
             "endlinecolor": "#2a3f5f",
             "gridcolor": "white",
             "linecolor": "white",
             "minorgridcolor": "white",
             "startlinecolor": "#2a3f5f"
            },
            "type": "carpet"
           }
          ],
          "choropleth": [
           {
            "colorbar": {
             "outlinewidth": 0,
             "ticks": ""
            },
            "type": "choropleth"
           }
          ],
          "contour": [
           {
            "colorbar": {
             "outlinewidth": 0,
             "ticks": ""
            },
            "colorscale": [
             [
              0,
              "#0d0887"
             ],
             [
              0.1111111111111111,
              "#46039f"
             ],
             [
              0.2222222222222222,
              "#7201a8"
             ],
             [
              0.3333333333333333,
              "#9c179e"
             ],
             [
              0.4444444444444444,
              "#bd3786"
             ],
             [
              0.5555555555555556,
              "#d8576b"
             ],
             [
              0.6666666666666666,
              "#ed7953"
             ],
             [
              0.7777777777777778,
              "#fb9f3a"
             ],
             [
              0.8888888888888888,
              "#fdca26"
             ],
             [
              1,
              "#f0f921"
             ]
            ],
            "type": "contour"
           }
          ],
          "contourcarpet": [
           {
            "colorbar": {
             "outlinewidth": 0,
             "ticks": ""
            },
            "type": "contourcarpet"
           }
          ],
          "heatmap": [
           {
            "colorbar": {
             "outlinewidth": 0,
             "ticks": ""
            },
            "colorscale": [
             [
              0,
              "#0d0887"
             ],
             [
              0.1111111111111111,
              "#46039f"
             ],
             [
              0.2222222222222222,
              "#7201a8"
             ],
             [
              0.3333333333333333,
              "#9c179e"
             ],
             [
              0.4444444444444444,
              "#bd3786"
             ],
             [
              0.5555555555555556,
              "#d8576b"
             ],
             [
              0.6666666666666666,
              "#ed7953"
             ],
             [
              0.7777777777777778,
              "#fb9f3a"
             ],
             [
              0.8888888888888888,
              "#fdca26"
             ],
             [
              1,
              "#f0f921"
             ]
            ],
            "type": "heatmap"
           }
          ],
          "heatmapgl": [
           {
            "colorbar": {
             "outlinewidth": 0,
             "ticks": ""
            },
            "colorscale": [
             [
              0,
              "#0d0887"
             ],
             [
              0.1111111111111111,
              "#46039f"
             ],
             [
              0.2222222222222222,
              "#7201a8"
             ],
             [
              0.3333333333333333,
              "#9c179e"
             ],
             [
              0.4444444444444444,
              "#bd3786"
             ],
             [
              0.5555555555555556,
              "#d8576b"
             ],
             [
              0.6666666666666666,
              "#ed7953"
             ],
             [
              0.7777777777777778,
              "#fb9f3a"
             ],
             [
              0.8888888888888888,
              "#fdca26"
             ],
             [
              1,
              "#f0f921"
             ]
            ],
            "type": "heatmapgl"
           }
          ],
          "histogram": [
           {
            "marker": {
             "pattern": {
              "fillmode": "overlay",
              "size": 10,
              "solidity": 0.2
             }
            },
            "type": "histogram"
           }
          ],
          "histogram2d": [
           {
            "colorbar": {
             "outlinewidth": 0,
             "ticks": ""
            },
            "colorscale": [
             [
              0,
              "#0d0887"
             ],
             [
              0.1111111111111111,
              "#46039f"
             ],
             [
              0.2222222222222222,
              "#7201a8"
             ],
             [
              0.3333333333333333,
              "#9c179e"
             ],
             [
              0.4444444444444444,
              "#bd3786"
             ],
             [
              0.5555555555555556,
              "#d8576b"
             ],
             [
              0.6666666666666666,
              "#ed7953"
             ],
             [
              0.7777777777777778,
              "#fb9f3a"
             ],
             [
              0.8888888888888888,
              "#fdca26"
             ],
             [
              1,
              "#f0f921"
             ]
            ],
            "type": "histogram2d"
           }
          ],
          "histogram2dcontour": [
           {
            "colorbar": {
             "outlinewidth": 0,
             "ticks": ""
            },
            "colorscale": [
             [
              0,
              "#0d0887"
             ],
             [
              0.1111111111111111,
              "#46039f"
             ],
             [
              0.2222222222222222,
              "#7201a8"
             ],
             [
              0.3333333333333333,
              "#9c179e"
             ],
             [
              0.4444444444444444,
              "#bd3786"
             ],
             [
              0.5555555555555556,
              "#d8576b"
             ],
             [
              0.6666666666666666,
              "#ed7953"
             ],
             [
              0.7777777777777778,
              "#fb9f3a"
             ],
             [
              0.8888888888888888,
              "#fdca26"
             ],
             [
              1,
              "#f0f921"
             ]
            ],
            "type": "histogram2dcontour"
           }
          ],
          "mesh3d": [
           {
            "colorbar": {
             "outlinewidth": 0,
             "ticks": ""
            },
            "type": "mesh3d"
           }
          ],
          "parcoords": [
           {
            "line": {
             "colorbar": {
              "outlinewidth": 0,
              "ticks": ""
             }
            },
            "type": "parcoords"
           }
          ],
          "pie": [
           {
            "automargin": true,
            "type": "pie"
           }
          ],
          "scatter": [
           {
            "fillpattern": {
             "fillmode": "overlay",
             "size": 10,
             "solidity": 0.2
            },
            "type": "scatter"
           }
          ],
          "scatter3d": [
           {
            "line": {
             "colorbar": {
              "outlinewidth": 0,
              "ticks": ""
             }
            },
            "marker": {
             "colorbar": {
              "outlinewidth": 0,
              "ticks": ""
             }
            },
            "type": "scatter3d"
           }
          ],
          "scattercarpet": [
           {
            "marker": {
             "colorbar": {
              "outlinewidth": 0,
              "ticks": ""
             }
            },
            "type": "scattercarpet"
           }
          ],
          "scattergeo": [
           {
            "marker": {
             "colorbar": {
              "outlinewidth": 0,
              "ticks": ""
             }
            },
            "type": "scattergeo"
           }
          ],
          "scattergl": [
           {
            "marker": {
             "colorbar": {
              "outlinewidth": 0,
              "ticks": ""
             }
            },
            "type": "scattergl"
           }
          ],
          "scattermapbox": [
           {
            "marker": {
             "colorbar": {
              "outlinewidth": 0,
              "ticks": ""
             }
            },
            "type": "scattermapbox"
           }
          ],
          "scatterpolar": [
           {
            "marker": {
             "colorbar": {
              "outlinewidth": 0,
              "ticks": ""
             }
            },
            "type": "scatterpolar"
           }
          ],
          "scatterpolargl": [
           {
            "marker": {
             "colorbar": {
              "outlinewidth": 0,
              "ticks": ""
             }
            },
            "type": "scatterpolargl"
           }
          ],
          "scatterternary": [
           {
            "marker": {
             "colorbar": {
              "outlinewidth": 0,
              "ticks": ""
             }
            },
            "type": "scatterternary"
           }
          ],
          "surface": [
           {
            "colorbar": {
             "outlinewidth": 0,
             "ticks": ""
            },
            "colorscale": [
             [
              0,
              "#0d0887"
             ],
             [
              0.1111111111111111,
              "#46039f"
             ],
             [
              0.2222222222222222,
              "#7201a8"
             ],
             [
              0.3333333333333333,
              "#9c179e"
             ],
             [
              0.4444444444444444,
              "#bd3786"
             ],
             [
              0.5555555555555556,
              "#d8576b"
             ],
             [
              0.6666666666666666,
              "#ed7953"
             ],
             [
              0.7777777777777778,
              "#fb9f3a"
             ],
             [
              0.8888888888888888,
              "#fdca26"
             ],
             [
              1,
              "#f0f921"
             ]
            ],
            "type": "surface"
           }
          ],
          "table": [
           {
            "cells": {
             "fill": {
              "color": "#EBF0F8"
             },
             "line": {
              "color": "white"
             }
            },
            "header": {
             "fill": {
              "color": "#C8D4E3"
             },
             "line": {
              "color": "white"
             }
            },
            "type": "table"
           }
          ]
         },
         "layout": {
          "annotationdefaults": {
           "arrowcolor": "#2a3f5f",
           "arrowhead": 0,
           "arrowwidth": 1
          },
          "autotypenumbers": "strict",
          "coloraxis": {
           "colorbar": {
            "outlinewidth": 0,
            "ticks": ""
           }
          },
          "colorscale": {
           "diverging": [
            [
             0,
             "#8e0152"
            ],
            [
             0.1,
             "#c51b7d"
            ],
            [
             0.2,
             "#de77ae"
            ],
            [
             0.3,
             "#f1b6da"
            ],
            [
             0.4,
             "#fde0ef"
            ],
            [
             0.5,
             "#f7f7f7"
            ],
            [
             0.6,
             "#e6f5d0"
            ],
            [
             0.7,
             "#b8e186"
            ],
            [
             0.8,
             "#7fbc41"
            ],
            [
             0.9,
             "#4d9221"
            ],
            [
             1,
             "#276419"
            ]
           ],
           "sequential": [
            [
             0,
             "#0d0887"
            ],
            [
             0.1111111111111111,
             "#46039f"
            ],
            [
             0.2222222222222222,
             "#7201a8"
            ],
            [
             0.3333333333333333,
             "#9c179e"
            ],
            [
             0.4444444444444444,
             "#bd3786"
            ],
            [
             0.5555555555555556,
             "#d8576b"
            ],
            [
             0.6666666666666666,
             "#ed7953"
            ],
            [
             0.7777777777777778,
             "#fb9f3a"
            ],
            [
             0.8888888888888888,
             "#fdca26"
            ],
            [
             1,
             "#f0f921"
            ]
           ],
           "sequentialminus": [
            [
             0,
             "#0d0887"
            ],
            [
             0.1111111111111111,
             "#46039f"
            ],
            [
             0.2222222222222222,
             "#7201a8"
            ],
            [
             0.3333333333333333,
             "#9c179e"
            ],
            [
             0.4444444444444444,
             "#bd3786"
            ],
            [
             0.5555555555555556,
             "#d8576b"
            ],
            [
             0.6666666666666666,
             "#ed7953"
            ],
            [
             0.7777777777777778,
             "#fb9f3a"
            ],
            [
             0.8888888888888888,
             "#fdca26"
            ],
            [
             1,
             "#f0f921"
            ]
           ]
          },
          "colorway": [
           "#636efa",
           "#EF553B",
           "#00cc96",
           "#ab63fa",
           "#FFA15A",
           "#19d3f3",
           "#FF6692",
           "#B6E880",
           "#FF97FF",
           "#FECB52"
          ],
          "font": {
           "color": "#2a3f5f"
          },
          "geo": {
           "bgcolor": "white",
           "lakecolor": "white",
           "landcolor": "#E5ECF6",
           "showlakes": true,
           "showland": true,
           "subunitcolor": "white"
          },
          "hoverlabel": {
           "align": "left"
          },
          "hovermode": "closest",
          "mapbox": {
           "style": "light"
          },
          "paper_bgcolor": "white",
          "plot_bgcolor": "#E5ECF6",
          "polar": {
           "angularaxis": {
            "gridcolor": "white",
            "linecolor": "white",
            "ticks": ""
           },
           "bgcolor": "#E5ECF6",
           "radialaxis": {
            "gridcolor": "white",
            "linecolor": "white",
            "ticks": ""
           }
          },
          "scene": {
           "xaxis": {
            "backgroundcolor": "#E5ECF6",
            "gridcolor": "white",
            "gridwidth": 2,
            "linecolor": "white",
            "showbackground": true,
            "ticks": "",
            "zerolinecolor": "white"
           },
           "yaxis": {
            "backgroundcolor": "#E5ECF6",
            "gridcolor": "white",
            "gridwidth": 2,
            "linecolor": "white",
            "showbackground": true,
            "ticks": "",
            "zerolinecolor": "white"
           },
           "zaxis": {
            "backgroundcolor": "#E5ECF6",
            "gridcolor": "white",
            "gridwidth": 2,
            "linecolor": "white",
            "showbackground": true,
            "ticks": "",
            "zerolinecolor": "white"
           }
          },
          "shapedefaults": {
           "line": {
            "color": "#2a3f5f"
           }
          },
          "ternary": {
           "aaxis": {
            "gridcolor": "white",
            "linecolor": "white",
            "ticks": ""
           },
           "baxis": {
            "gridcolor": "white",
            "linecolor": "white",
            "ticks": ""
           },
           "bgcolor": "#E5ECF6",
           "caxis": {
            "gridcolor": "white",
            "linecolor": "white",
            "ticks": ""
           }
          },
          "title": {
           "x": 0.05
          },
          "xaxis": {
           "automargin": true,
           "gridcolor": "white",
           "linecolor": "white",
           "ticks": "",
           "title": {
            "standoff": 15
           },
           "zerolinecolor": "white",
           "zerolinewidth": 2
          },
          "yaxis": {
           "automargin": true,
           "gridcolor": "white",
           "linecolor": "white",
           "ticks": "",
           "title": {
            "standoff": 15
           },
           "zerolinecolor": "white",
           "zerolinewidth": 2
          }
         }
        },
        "title": {
         "text": "Travel map 2022",
         "x": 0.5
        }
       }
      }
     },
     "metadata": {},
     "output_type": "display_data"
    }
   ],
   "source": [
    "import plotly.express as px\n",
    "import plotly.graph_objects as go\n",
    "import pandas as pd\n",
    "\n",
    "def setColor(x):\n",
    "  if x==\"Car\":\n",
    "    return \"black\"\n",
    "  elif x==\"Train\":\n",
    "    return \"purple\"\n",
    "  elif x==\"Bus\":\n",
    "    return \"Green\"\n",
    "  elif x==\"Plane\":\n",
    "    return \"Red\"\n",
    "  else:\n",
    "    return \"Gray\"\n",
    "\n",
    "def setLineStyle(x):\n",
    "  if x==\"Car\":\n",
    "    return \"solid\"\n",
    "  elif x==\"Train\":\n",
    "    return \"dot\"\n",
    "  elif x==\"Bus\":\n",
    "    return \"solid\"\n",
    "  elif x==\"Plane\":\n",
    "    return \"dashdot\"\n",
    "  else:\n",
    "    return \"Gray\"\n",
    "\n",
    "def setLineWidth(x):\n",
    "  if x==\"Car\":\n",
    "    return 1\n",
    "  elif x==\"Train\":\n",
    "    return 1\n",
    "  elif x==\"Bus\":\n",
    "    return 1\n",
    "  elif x==\"Plane\":\n",
    "    return 1\n",
    "  else:\n",
    "    return 1\n",
    "\n",
    "df = table\n",
    "\n",
    "# fig = px.line_geo(df,lat='lat',lon='lon', color='Means', \n",
    "#                   hover_name=\"Place\", \n",
    "#                   projection=\"orthographic\", \n",
    "#                   markers=True, \n",
    "#                   scope=\"world\",)\n",
    "\n",
    "fig = go.Figure()\n",
    "\n",
    "# Add all the lines between locations\n",
    "for index, line in table.iterrows():\n",
    "  start = index\n",
    "  end = index+1\n",
    "  if (index == len(table)-1):\n",
    "    continue\n",
    "\n",
    "  fig.add_trace(\n",
    "    go.Scattergeo(\n",
    "      lon=[table['lon'][start], table['lon'][end]],\n",
    "      lat=[table['lat'][start], table['lat'][end]],\n",
    "      mode='lines',\n",
    "      name=table['Means'][start+1],\n",
    "      line=dict(\n",
    "        color=setColor(table['Means'][start+1]),\n",
    "        width=1,\n",
    "        dash=setLineStyle(table['Means'][start+1])\n",
    "      )\n",
    "    )\n",
    "  )\n",
    "\n",
    "# Add each Location as a dot\n",
    "fig.add_trace(\n",
    "  go.Scattergeo(\n",
    "    lon=table['lon'],\n",
    "    lat=table['lat'],\n",
    "    hoverinfo='text',\n",
    "    text=table['Place'],\n",
    "    mode='markers',\n",
    "    marker=dict(\n",
    "      size=8,\n",
    "      color='Red'\n",
    "    )\n",
    "  )\n",
    ")\n",
    "\n",
    "# add names\n",
    "names = list()\n",
    "for index, line in table.iterrows():\n",
    "  if line['Place'] in names:\n",
    "    continue\n",
    "  else:\n",
    "    names.append(line['Place'])\n",
    "    fig.add_trace(\n",
    "      go.Scattergeo(\n",
    "        lon=[line['lon']],\n",
    "        lat=[line['lat']],\n",
    "        text=line['Place'],\n",
    "        mode='text'\n",
    "      )\n",
    "    )\n",
    "\n",
    "\n",
    "fig.update_traces(textposition='top center', textfont_size=10)\n",
    "\n",
    "fig.update_layout(title = 'Travel map 2022', \n",
    "                  title_x=0.5,\n",
    "                  geo=dict(\n",
    "                    showland=True,\n",
    "                    showcountries=True,\n",
    "                    showocean=True,\n",
    "                    oceancolor = 'rgb(100,150,250)',\n",
    "                    landcolor = 'rgb(255,255,255)'\n",
    "                    )\n",
    "                )\n",
    "fig.update_geos(fitbounds=\"locations\")\n",
    "fig.show()"
   ]
  }
 ],
 "metadata": {
  "interpreter": {
   "hash": "6c9b5f2fc96e180b8a5a8a696d3f7e4165240dee36d2141e31628b5fa32cbf6e"
  },
  "kernelspec": {
   "display_name": "Python 3.8.8 ('base')",
   "language": "python",
   "name": "python3"
  },
  "language_info": {
   "codemirror_mode": {
    "name": "ipython",
    "version": 3
   },
   "file_extension": ".py",
   "mimetype": "text/x-python",
   "name": "python",
   "nbconvert_exporter": "python",
   "pygments_lexer": "ipython3",
   "version": "3.8.8"
  },
  "orig_nbformat": 4
 },
 "nbformat": 4,
 "nbformat_minor": 2
}
