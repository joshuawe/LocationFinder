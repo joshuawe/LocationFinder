{
 "cells": [
  {
   "cell_type": "code",
   "execution_count": 40,
   "metadata": {},
   "outputs": [
    {
     "name": "stdout",
     "output_type": "stream",
     "text": [
      "Inneringen :\t48.1900768° 9.2808899°\n",
      "Thale, Sachsen Anhalt :\t51.7527606° 11.037722°\n",
      "Göttingen, Niedersachsen :\t51.5328328° 9.9351811°\n",
      "München :\t48.1371079° 11.5753822°\n",
      "Plansee, Österreich :\t47.4743297° 10.81288488390293°\n",
      "München :\t48.1371079° 11.5753822°\n",
      "St. Petersburg, Russland :\t59.917857350000006° 30.380619357025516°\n",
      "Helsinki, Finnland :\t60.1674881° 24.9427473°\n",
      "Frankfurt :\t50.1106444° 8.6820917°\n",
      "Saarbrücken  :\t49.234362° 6.996379°\n",
      "Göttingen  :\t51.5328328° 9.9351811°\n",
      "Frankfurt :\t50.1106444° 8.6820917°\n",
      "München  :\t48.1371079° 11.5753822°\n",
      "Frankfurt :\t50.1106444° 8.6820917°\n",
      "München  :\t48.1371079° 11.5753822°\n",
      "Berlin :\t52.5170365° 13.3888599°\n",
      "Frankfurt  :\t50.1106444° 8.6820917°\n",
      "Düsseldorf  :\t51.2254018° 6.7763137°\n",
      "Frankfurt :\t50.1106444° 8.6820917°\n",
      "Leipzig :\t51.3406321° 12.3747329°\n",
      "Frankfurt :\t50.1106444° 8.6820917°\n",
      "München :\t48.1371079° 11.5753822°\n",
      "lat:  50.1106444\n",
      "lon:  8.6820917\n"
     ]
    }
   ],
   "source": [
    "import requests, json, pandas as pd\n",
    "\n",
    "def get_lon_lat(location):\n",
    "    x = requests.get(\"https://geocode.maps.co/search?q=\" + location)\n",
    "    j = json.loads(x.text)\n",
    "    lat, lon = j[0][\"lat\"].strip(), j[0][\"lon\"].strip()\n",
    "    return lon, lat\n",
    "\n",
    "\n",
    "path_csv = \"C:/Users/joshu/Downloads/Untitled D 739a3.csv\"\n",
    "table = pd.read_csv(path_csv)\n",
    "table.insert(3, \"lon\", \"\")\n",
    "table.insert(3, \"lat\", \"\")\n",
    "\n",
    "for index, line in table.iterrows():\n",
    "    location = line[\"Place\"]\n",
    "    lon, lat = get_lon_lat(location)\n",
    "    print(location, \":\\t\" + lat + \"° \" + lon + \"°\")\n",
    "\n",
    "    pass\n",
    "\n",
    "location = \"frankfurt, Germany\"\n",
    "\n",
    "x = requests.get(\"https://geocode.maps.co/search?q=\" + location)\n",
    "\n",
    "j = json.loads(x.text)\n",
    "print(\"lat: \", j[0][\"lat\"])\n",
    "print(\"lon: \", j[0][\"lon\"])\n"
   ]
  }
 ],
 "metadata": {
  "interpreter": {
   "hash": "fa75a4c70c649ad1f40727d2f77fdf697d6dc67086101189351a6e5ed7f96439"
  },
  "kernelspec": {
   "display_name": "Python 3.8.8 ('DAISE')",
   "language": "python",
   "name": "python3"
  },
  "language_info": {
   "codemirror_mode": {
    "name": "ipython",
    "version": 3
   },
   "file_extension": ".py",
   "mimetype": "text/x-python",
   "name": "python",
   "nbconvert_exporter": "python",
   "pygments_lexer": "ipython3",
   "version": "3.8.8"
  },
  "orig_nbformat": 4
 },
 "nbformat": 4,
 "nbformat_minor": 2
}
