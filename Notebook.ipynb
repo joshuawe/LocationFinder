{
 "cells": [
  {
   "cell_type": "code",
   "execution_count": null,
   "metadata": {},
   "outputs": [],
   "source": [
    "import requests, json, pandas as pd\n",
    "\n",
    "def get_lon_lat(location):\n",
    "    x = requests.get(\"https://geocode.maps.co/search?q=\" + location)\n",
    "    j = json.loads(x.text)\n",
    "    lat, lon = j[0][\"lat\"].strip(), j[0][\"lon\"].strip()\n",
    "    return lon, lat\n",
    "\n",
    "\n",
    "path_csv = \"C:/Users/joshu/Downloads/Untitled D 739a3.csv\"\n",
    "table = pd.read_csv(path_csv)\n",
    "table.insert(3, \"lon\", \"\")\n",
    "table.insert(3, \"lat\", \"\")\n",
    "\n",
    "print(\"Location:\\tlat lon\")\n",
    "for index, line in table.iterrows():\n",
    "    location = line[\"Place\"]\n",
    "    lon, lat = get_lon_lat(location)\n",
    "    line[\"lon\"] = lon\n",
    "    line[\"lat\"] = lat\n",
    "    print(location, \":\\t\" + lat + \"° \" + lon + \"°\")\n",
    "\n",
    "    pass\n",
    "\n",
    "location = \"frankfurt, Germany\"\n",
    "\n",
    "x = requests.get(\"https://geocode.maps.co/search?q=\" + location)\n",
    "\n",
    "j = json.loads(x.text)\n",
    "print(\"lat: \", j[0][\"lat\"])\n",
    "print(\"lon: \", j[0][\"lon\"])\n"
   ]
  },
  {
   "cell_type": "code",
   "execution_count": 81,
   "metadata": {},
   "outputs": [
    {
     "data": {
      "application/vnd.plotly.v1+json": {
       "config": {
        "plotlyServerURL": "https://plot.ly"
       },
       "data": [
        {
         "lat": [
          "48.1900768",
          "51.7527606"
         ],
         "line": {
          "color": "purple",
          "dash": "dot",
          "width": 1
         },
         "lon": [
          "9.2808899",
          "11.037722"
         ],
         "mode": "lines",
         "name": "Train",
         "type": "scattergeo"
        },
        {
         "lat": [
          "51.7527606",
          "51.5328328"
         ],
         "line": {
          "color": "purple",
          "dash": "dot",
          "width": 1
         },
         "lon": [
          "11.037722",
          "9.9351811"
         ],
         "mode": "lines",
         "name": "Train",
         "type": "scattergeo"
        },
        {
         "lat": [
          "51.5328328",
          "48.1371079"
         ],
         "line": {
          "color": "purple",
          "dash": "dot",
          "width": 1
         },
         "lon": [
          "9.9351811",
          "11.5753822"
         ],
         "mode": "lines",
         "name": "Train",
         "type": "scattergeo"
        },
        {
         "lat": [
          "48.1371079",
          "47.4743297"
         ],
         "line": {
          "color": "black",
          "dash": "solid",
          "width": 1
         },
         "lon": [
          "11.5753822",
          "10.81288488390293"
         ],
         "mode": "lines",
         "name": "Car",
         "type": "scattergeo"
        },
        {
         "lat": [
          "47.4743297",
          "48.1371079"
         ],
         "line": {
          "color": "black",
          "dash": "solid",
          "width": 1
         },
         "lon": [
          "10.81288488390293",
          "11.5753822"
         ],
         "mode": "lines",
         "name": "Car",
         "type": "scattergeo"
        },
        {
         "lat": [
          "48.1371079",
          "59.917857350000006"
         ],
         "line": {
          "color": "Red",
          "dash": "dashdot",
          "width": 1
         },
         "lon": [
          "11.5753822",
          "30.380619357025516"
         ],
         "mode": "lines",
         "name": "Plane",
         "type": "scattergeo"
        },
        {
         "lat": [
          "59.917857350000006",
          "60.1674881"
         ],
         "line": {
          "color": "Green",
          "dash": "solid",
          "width": 1
         },
         "lon": [
          "30.380619357025516",
          "24.9427473"
         ],
         "mode": "lines",
         "name": "Bus",
         "type": "scattergeo"
        },
        {
         "lat": [
          "60.1674881",
          "50.1106444"
         ],
         "line": {
          "color": "Red",
          "dash": "dashdot",
          "width": 1
         },
         "lon": [
          "24.9427473",
          "8.6820917"
         ],
         "mode": "lines",
         "name": "Plane",
         "type": "scattergeo"
        },
        {
         "lat": [
          "50.1106444",
          "49.234362"
         ],
         "line": {
          "color": "purple",
          "dash": "dot",
          "width": 1
         },
         "lon": [
          "8.6820917",
          "6.996379"
         ],
         "mode": "lines",
         "name": "Train",
         "type": "scattergeo"
        },
        {
         "lat": [
          "49.234362",
          "51.5328328"
         ],
         "line": {
          "color": "purple",
          "dash": "dot",
          "width": 1
         },
         "lon": [
          "6.996379",
          "9.9351811"
         ],
         "mode": "lines",
         "name": "Train",
         "type": "scattergeo"
        },
        {
         "lat": [
          "51.5328328",
          "50.1106444"
         ],
         "line": {
          "color": "purple",
          "dash": "dot",
          "width": 1
         },
         "lon": [
          "9.9351811",
          "8.6820917"
         ],
         "mode": "lines",
         "name": "Train",
         "type": "scattergeo"
        },
        {
         "lat": [
          "50.1106444",
          "48.1371079"
         ],
         "line": {
          "color": "purple",
          "dash": "dot",
          "width": 1
         },
         "lon": [
          "8.6820917",
          "11.5753822"
         ],
         "mode": "lines",
         "name": "Train",
         "type": "scattergeo"
        },
        {
         "lat": [
          "48.1371079",
          "50.1106444"
         ],
         "line": {
          "color": "purple",
          "dash": "dot",
          "width": 1
         },
         "lon": [
          "11.5753822",
          "8.6820917"
         ],
         "mode": "lines",
         "name": "Train",
         "type": "scattergeo"
        },
        {
         "lat": [
          "50.1106444",
          "48.1371079"
         ],
         "line": {
          "color": "purple",
          "dash": "dot",
          "width": 1
         },
         "lon": [
          "8.6820917",
          "11.5753822"
         ],
         "mode": "lines",
         "name": "Train",
         "type": "scattergeo"
        },
        {
         "lat": [
          "48.1371079",
          "52.5170365"
         ],
         "line": {
          "color": "purple",
          "dash": "dot",
          "width": 1
         },
         "lon": [
          "11.5753822",
          "13.3888599"
         ],
         "mode": "lines",
         "name": "Train",
         "type": "scattergeo"
        },
        {
         "lat": [
          "52.5170365",
          "50.1106444"
         ],
         "line": {
          "color": "purple",
          "dash": "dot",
          "width": 1
         },
         "lon": [
          "13.3888599",
          "8.6820917"
         ],
         "mode": "lines",
         "name": "Train",
         "type": "scattergeo"
        },
        {
         "lat": [
          "50.1106444",
          "51.2254018"
         ],
         "line": {
          "color": "purple",
          "dash": "dot",
          "width": 1
         },
         "lon": [
          "8.6820917",
          "6.7763137"
         ],
         "mode": "lines",
         "name": "Train",
         "type": "scattergeo"
        },
        {
         "lat": [
          "51.2254018",
          "50.1106444"
         ],
         "line": {
          "color": "purple",
          "dash": "dot",
          "width": 1
         },
         "lon": [
          "6.7763137",
          "8.6820917"
         ],
         "mode": "lines",
         "name": "Train",
         "type": "scattergeo"
        },
        {
         "lat": [
          "50.1106444",
          "51.3406321"
         ],
         "line": {
          "color": "black",
          "dash": "solid",
          "width": 1
         },
         "lon": [
          "8.6820917",
          "12.3747329"
         ],
         "mode": "lines",
         "name": "Car",
         "type": "scattergeo"
        },
        {
         "lat": [
          "51.3406321",
          "50.1106444"
         ],
         "line": {
          "color": "black",
          "dash": "solid",
          "width": 1
         },
         "lon": [
          "12.3747329",
          "8.6820917"
         ],
         "mode": "lines",
         "name": "Car",
         "type": "scattergeo"
        },
        {
         "lat": [
          "50.1106444",
          "48.1371079"
         ],
         "line": {
          "color": "purple",
          "dash": "dot",
          "width": 1
         },
         "lon": [
          "8.6820917",
          "11.5753822"
         ],
         "mode": "lines",
         "name": "Train",
         "type": "scattergeo"
        },
        {
         "hoverinfo": "text",
         "lat": [
          "48.1900768",
          "51.7527606",
          "51.5328328",
          "48.1371079",
          "47.4743297",
          "48.1371079",
          "59.917857350000006",
          "60.1674881",
          "50.1106444",
          "49.234362",
          "51.5328328",
          "50.1106444",
          "48.1371079",
          "50.1106444",
          "48.1371079",
          "52.5170365",
          "50.1106444",
          "51.2254018",
          "50.1106444",
          "51.3406321",
          "50.1106444",
          "48.1371079"
         ],
         "lon": [
          "9.2808899",
          "11.037722",
          "9.9351811",
          "11.5753822",
          "10.81288488390293",
          "11.5753822",
          "30.380619357025516",
          "24.9427473",
          "8.6820917",
          "6.996379",
          "9.9351811",
          "8.6820917",
          "11.5753822",
          "8.6820917",
          "11.5753822",
          "13.3888599",
          "8.6820917",
          "6.7763137",
          "8.6820917",
          "12.3747329",
          "8.6820917",
          "11.5753822"
         ],
         "marker": {
          "color": "Red",
          "size": 8
         },
         "mode": "markers",
         "text": [
          "Inneringen",
          "Thale, Sachsen Anhalt",
          "Göttingen, Niedersachsen",
          "München",
          "Plansee, Österreich",
          "München",
          "St. Petersburg, Russland",
          "Helsinki, Finnland",
          "Frankfurt",
          "Saarbrücken ",
          "Göttingen ",
          "Frankfurt",
          "München ",
          "Frankfurt",
          "München ",
          "Berlin",
          "Frankfurt ",
          "Düsseldorf ",
          "Frankfurt",
          "Leipzig",
          "Frankfurt",
          "München"
         ],
         "type": "scattergeo"
        }
       ],
       "layout": {
        "geo": {
         "fitbounds": "locations",
         "landcolor": "rgb(255,255,255)",
         "oceancolor": "rgb(100,150,250)",
         "showcountries": true,
         "showland": true,
         "showocean": true
        },
        "template": {
         "data": {
          "bar": [
           {
            "error_x": {
             "color": "#2a3f5f"
            },
            "error_y": {
             "color": "#2a3f5f"
            },
            "marker": {
             "line": {
              "color": "#E5ECF6",
              "width": 0.5
             },
             "pattern": {
              "fillmode": "overlay",
              "size": 10,
              "solidity": 0.2
             }
            },
            "type": "bar"
           }
          ],
          "barpolar": [
           {
            "marker": {
             "line": {
              "color": "#E5ECF6",
              "width": 0.5
             },
             "pattern": {
              "fillmode": "overlay",
              "size": 10,
              "solidity": 0.2
             }
            },
            "type": "barpolar"
           }
          ],
          "carpet": [
           {
            "aaxis": {
             "endlinecolor": "#2a3f5f",
             "gridcolor": "white",
             "linecolor": "white",
             "minorgridcolor": "white",
             "startlinecolor": "#2a3f5f"
            },
            "baxis": {
             "endlinecolor": "#2a3f5f",
             "gridcolor": "white",
             "linecolor": "white",
             "minorgridcolor": "white",
             "startlinecolor": "#2a3f5f"
            },
            "type": "carpet"
           }
          ],
          "choropleth": [
           {
            "colorbar": {
             "outlinewidth": 0,
             "ticks": ""
            },
            "type": "choropleth"
           }
          ],
          "contour": [
           {
            "colorbar": {
             "outlinewidth": 0,
             "ticks": ""
            },
            "colorscale": [
             [
              0,
              "#0d0887"
             ],
             [
              0.1111111111111111,
              "#46039f"
             ],
             [
              0.2222222222222222,
              "#7201a8"
             ],
             [
              0.3333333333333333,
              "#9c179e"
             ],
             [
              0.4444444444444444,
              "#bd3786"
             ],
             [
              0.5555555555555556,
              "#d8576b"
             ],
             [
              0.6666666666666666,
              "#ed7953"
             ],
             [
              0.7777777777777778,
              "#fb9f3a"
             ],
             [
              0.8888888888888888,
              "#fdca26"
             ],
             [
              1,
              "#f0f921"
             ]
            ],
            "type": "contour"
           }
          ],
          "contourcarpet": [
           {
            "colorbar": {
             "outlinewidth": 0,
             "ticks": ""
            },
            "type": "contourcarpet"
           }
          ],
          "heatmap": [
           {
            "colorbar": {
             "outlinewidth": 0,
             "ticks": ""
            },
            "colorscale": [
             [
              0,
              "#0d0887"
             ],
             [
              0.1111111111111111,
              "#46039f"
             ],
             [
              0.2222222222222222,
              "#7201a8"
             ],
             [
              0.3333333333333333,
              "#9c179e"
             ],
             [
              0.4444444444444444,
              "#bd3786"
             ],
             [
              0.5555555555555556,
              "#d8576b"
             ],
             [
              0.6666666666666666,
              "#ed7953"
             ],
             [
              0.7777777777777778,
              "#fb9f3a"
             ],
             [
              0.8888888888888888,
              "#fdca26"
             ],
             [
              1,
              "#f0f921"
             ]
            ],
            "type": "heatmap"
           }
          ],
          "heatmapgl": [
           {
            "colorbar": {
             "outlinewidth": 0,
             "ticks": ""
            },
            "colorscale": [
             [
              0,
              "#0d0887"
             ],
             [
              0.1111111111111111,
              "#46039f"
             ],
             [
              0.2222222222222222,
              "#7201a8"
             ],
             [
              0.3333333333333333,
              "#9c179e"
             ],
             [
              0.4444444444444444,
              "#bd3786"
             ],
             [
              0.5555555555555556,
              "#d8576b"
             ],
             [
              0.6666666666666666,
              "#ed7953"
             ],
             [
              0.7777777777777778,
              "#fb9f3a"
             ],
             [
              0.8888888888888888,
              "#fdca26"
             ],
             [
              1,
              "#f0f921"
             ]
            ],
            "type": "heatmapgl"
           }
          ],
          "histogram": [
           {
            "marker": {
             "pattern": {
              "fillmode": "overlay",
              "size": 10,
              "solidity": 0.2
             }
            },
            "type": "histogram"
           }
          ],
          "histogram2d": [
           {
            "colorbar": {
             "outlinewidth": 0,
             "ticks": ""
            },
            "colorscale": [
             [
              0,
              "#0d0887"
             ],
             [
              0.1111111111111111,
              "#46039f"
             ],
             [
              0.2222222222222222,
              "#7201a8"
             ],
             [
              0.3333333333333333,
              "#9c179e"
             ],
             [
              0.4444444444444444,
              "#bd3786"
             ],
             [
              0.5555555555555556,
              "#d8576b"
             ],
             [
              0.6666666666666666,
              "#ed7953"
             ],
             [
              0.7777777777777778,
              "#fb9f3a"
             ],
             [
              0.8888888888888888,
              "#fdca26"
             ],
             [
              1,
              "#f0f921"
             ]
            ],
            "type": "histogram2d"
           }
          ],
          "histogram2dcontour": [
           {
            "colorbar": {
             "outlinewidth": 0,
             "ticks": ""
            },
            "colorscale": [
             [
              0,
              "#0d0887"
             ],
             [
              0.1111111111111111,
              "#46039f"
             ],
             [
              0.2222222222222222,
              "#7201a8"
             ],
             [
              0.3333333333333333,
              "#9c179e"
             ],
             [
              0.4444444444444444,
              "#bd3786"
             ],
             [
              0.5555555555555556,
              "#d8576b"
             ],
             [
              0.6666666666666666,
              "#ed7953"
             ],
             [
              0.7777777777777778,
              "#fb9f3a"
             ],
             [
              0.8888888888888888,
              "#fdca26"
             ],
             [
              1,
              "#f0f921"
             ]
            ],
            "type": "histogram2dcontour"
           }
          ],
          "mesh3d": [
           {
            "colorbar": {
             "outlinewidth": 0,
             "ticks": ""
            },
            "type": "mesh3d"
           }
          ],
          "parcoords": [
           {
            "line": {
             "colorbar": {
              "outlinewidth": 0,
              "ticks": ""
             }
            },
            "type": "parcoords"
           }
          ],
          "pie": [
           {
            "automargin": true,
            "type": "pie"
           }
          ],
          "scatter": [
           {
            "fillpattern": {
             "fillmode": "overlay",
             "size": 10,
             "solidity": 0.2
            },
            "type": "scatter"
           }
          ],
          "scatter3d": [
           {
            "line": {
             "colorbar": {
              "outlinewidth": 0,
              "ticks": ""
             }
            },
            "marker": {
             "colorbar": {
              "outlinewidth": 0,
              "ticks": ""
             }
            },
            "type": "scatter3d"
           }
          ],
          "scattercarpet": [
           {
            "marker": {
             "colorbar": {
              "outlinewidth": 0,
              "ticks": ""
             }
            },
            "type": "scattercarpet"
           }
          ],
          "scattergeo": [
           {
            "marker": {
             "colorbar": {
              "outlinewidth": 0,
              "ticks": ""
             }
            },
            "type": "scattergeo"
           }
          ],
          "scattergl": [
           {
            "marker": {
             "colorbar": {
              "outlinewidth": 0,
              "ticks": ""
             }
            },
            "type": "scattergl"
           }
          ],
          "scattermapbox": [
           {
            "marker": {
             "colorbar": {
              "outlinewidth": 0,
              "ticks": ""
             }
            },
            "type": "scattermapbox"
           }
          ],
          "scatterpolar": [
           {
            "marker": {
             "colorbar": {
              "outlinewidth": 0,
              "ticks": ""
             }
            },
            "type": "scatterpolar"
           }
          ],
          "scatterpolargl": [
           {
            "marker": {
             "colorbar": {
              "outlinewidth": 0,
              "ticks": ""
             }
            },
            "type": "scatterpolargl"
           }
          ],
          "scatterternary": [
           {
            "marker": {
             "colorbar": {
              "outlinewidth": 0,
              "ticks": ""
             }
            },
            "type": "scatterternary"
           }
          ],
          "surface": [
           {
            "colorbar": {
             "outlinewidth": 0,
             "ticks": ""
            },
            "colorscale": [
             [
              0,
              "#0d0887"
             ],
             [
              0.1111111111111111,
              "#46039f"
             ],
             [
              0.2222222222222222,
              "#7201a8"
             ],
             [
              0.3333333333333333,
              "#9c179e"
             ],
             [
              0.4444444444444444,
              "#bd3786"
             ],
             [
              0.5555555555555556,
              "#d8576b"
             ],
             [
              0.6666666666666666,
              "#ed7953"
             ],
             [
              0.7777777777777778,
              "#fb9f3a"
             ],
             [
              0.8888888888888888,
              "#fdca26"
             ],
             [
              1,
              "#f0f921"
             ]
            ],
            "type": "surface"
           }
          ],
          "table": [
           {
            "cells": {
             "fill": {
              "color": "#EBF0F8"
             },
             "line": {
              "color": "white"
             }
            },
            "header": {
             "fill": {
              "color": "#C8D4E3"
             },
             "line": {
              "color": "white"
             }
            },
            "type": "table"
           }
          ]
         },
         "layout": {
          "annotationdefaults": {
           "arrowcolor": "#2a3f5f",
           "arrowhead": 0,
           "arrowwidth": 1
          },
          "autotypenumbers": "strict",
          "coloraxis": {
           "colorbar": {
            "outlinewidth": 0,
            "ticks": ""
           }
          },
          "colorscale": {
           "diverging": [
            [
             0,
             "#8e0152"
            ],
            [
             0.1,
             "#c51b7d"
            ],
            [
             0.2,
             "#de77ae"
            ],
            [
             0.3,
             "#f1b6da"
            ],
            [
             0.4,
             "#fde0ef"
            ],
            [
             0.5,
             "#f7f7f7"
            ],
            [
             0.6,
             "#e6f5d0"
            ],
            [
             0.7,
             "#b8e186"
            ],
            [
             0.8,
             "#7fbc41"
            ],
            [
             0.9,
             "#4d9221"
            ],
            [
             1,
             "#276419"
            ]
           ],
           "sequential": [
            [
             0,
             "#0d0887"
            ],
            [
             0.1111111111111111,
             "#46039f"
            ],
            [
             0.2222222222222222,
             "#7201a8"
            ],
            [
             0.3333333333333333,
             "#9c179e"
            ],
            [
             0.4444444444444444,
             "#bd3786"
            ],
            [
             0.5555555555555556,
             "#d8576b"
            ],
            [
             0.6666666666666666,
             "#ed7953"
            ],
            [
             0.7777777777777778,
             "#fb9f3a"
            ],
            [
             0.8888888888888888,
             "#fdca26"
            ],
            [
             1,
             "#f0f921"
            ]
           ],
           "sequentialminus": [
            [
             0,
             "#0d0887"
            ],
            [
             0.1111111111111111,
             "#46039f"
            ],
            [
             0.2222222222222222,
             "#7201a8"
            ],
            [
             0.3333333333333333,
             "#9c179e"
            ],
            [
             0.4444444444444444,
             "#bd3786"
            ],
            [
             0.5555555555555556,
             "#d8576b"
            ],
            [
             0.6666666666666666,
             "#ed7953"
            ],
            [
             0.7777777777777778,
             "#fb9f3a"
            ],
            [
             0.8888888888888888,
             "#fdca26"
            ],
            [
             1,
             "#f0f921"
            ]
           ]
          },
          "colorway": [
           "#636efa",
           "#EF553B",
           "#00cc96",
           "#ab63fa",
           "#FFA15A",
           "#19d3f3",
           "#FF6692",
           "#B6E880",
           "#FF97FF",
           "#FECB52"
          ],
          "font": {
           "color": "#2a3f5f"
          },
          "geo": {
           "bgcolor": "white",
           "lakecolor": "white",
           "landcolor": "#E5ECF6",
           "showlakes": true,
           "showland": true,
           "subunitcolor": "white"
          },
          "hoverlabel": {
           "align": "left"
          },
          "hovermode": "closest",
          "mapbox": {
           "style": "light"
          },
          "paper_bgcolor": "white",
          "plot_bgcolor": "#E5ECF6",
          "polar": {
           "angularaxis": {
            "gridcolor": "white",
            "linecolor": "white",
            "ticks": ""
           },
           "bgcolor": "#E5ECF6",
           "radialaxis": {
            "gridcolor": "white",
            "linecolor": "white",
            "ticks": ""
           }
          },
          "scene": {
           "xaxis": {
            "backgroundcolor": "#E5ECF6",
            "gridcolor": "white",
            "gridwidth": 2,
            "linecolor": "white",
            "showbackground": true,
            "ticks": "",
            "zerolinecolor": "white"
           },
           "yaxis": {
            "backgroundcolor": "#E5ECF6",
            "gridcolor": "white",
            "gridwidth": 2,
            "linecolor": "white",
            "showbackground": true,
            "ticks": "",
            "zerolinecolor": "white"
           },
           "zaxis": {
            "backgroundcolor": "#E5ECF6",
            "gridcolor": "white",
            "gridwidth": 2,
            "linecolor": "white",
            "showbackground": true,
            "ticks": "",
            "zerolinecolor": "white"
           }
          },
          "shapedefaults": {
           "line": {
            "color": "#2a3f5f"
           }
          },
          "ternary": {
           "aaxis": {
            "gridcolor": "white",
            "linecolor": "white",
            "ticks": ""
           },
           "baxis": {
            "gridcolor": "white",
            "linecolor": "white",
            "ticks": ""
           },
           "bgcolor": "#E5ECF6",
           "caxis": {
            "gridcolor": "white",
            "linecolor": "white",
            "ticks": ""
           }
          },
          "title": {
           "x": 0.05
          },
          "xaxis": {
           "automargin": true,
           "gridcolor": "white",
           "linecolor": "white",
           "ticks": "",
           "title": {
            "standoff": 15
           },
           "zerolinecolor": "white",
           "zerolinewidth": 2
          },
          "yaxis": {
           "automargin": true,
           "gridcolor": "white",
           "linecolor": "white",
           "ticks": "",
           "title": {
            "standoff": 15
           },
           "zerolinecolor": "white",
           "zerolinewidth": 2
          }
         }
        },
        "title": {
         "text": "Travel map 2022",
         "x": 0.5
        }
       }
      }
     },
     "metadata": {},
     "output_type": "display_data"
    }
   ],
   "source": [
    "import plotly.express as px\n",
    "import plotly.graph_objects as go\n",
    "import pandas as pd\n",
    "\n",
    "def setColor(x):\n",
    "  if x==\"Car\":\n",
    "    return \"black\"\n",
    "  elif x==\"Train\":\n",
    "    return \"purple\"\n",
    "  elif x==\"Bus\":\n",
    "    return \"Green\"\n",
    "  elif x==\"Plane\":\n",
    "    return \"Red\"\n",
    "  else:\n",
    "    return \"Gray\"\n",
    "\n",
    "def setLineStyle(x):\n",
    "  if x==\"Car\":\n",
    "    return \"solid\"\n",
    "  elif x==\"Train\":\n",
    "    return \"dot\"\n",
    "  elif x==\"Bus\":\n",
    "    return \"solid\"\n",
    "  elif x==\"Plane\":\n",
    "    return \"dashdot\"\n",
    "  else:\n",
    "    return \"Gray\"\n",
    "\n",
    "df = table\n",
    "\n",
    "# fig = px.line_geo(df,lat='lat',lon='lon', color='Means', \n",
    "#                   hover_name=\"Place\", \n",
    "#                   projection=\"orthographic\", \n",
    "#                   markers=True, \n",
    "#                   scope=\"world\",)\n",
    "\n",
    "fig = go.Figure()\n",
    "\n",
    "# Add all the lines between locations\n",
    "for index, line in table.iterrows():\n",
    "  start = index\n",
    "  end = index+1\n",
    "  if (index == len(table)-1):\n",
    "    continue\n",
    "\n",
    "  fig.add_trace(\n",
    "    go.Scattergeo(\n",
    "      lon=[table['lon'][start], table['lon'][end]],\n",
    "      lat=[table['lat'][start], table['lat'][end]],\n",
    "      mode='lines',\n",
    "      name=table['Means'][start+1],\n",
    "      line=dict(\n",
    "        color=setColor(table['Means'][start+1]),\n",
    "        width=1,\n",
    "        dash=setLineStyle(table['Means'][start+1])\n",
    "      )\n",
    "    )\n",
    "  )\n",
    "\n",
    "# Add each Location as a dot\n",
    "fig.add_trace(\n",
    "  go.Scattergeo(\n",
    "    lon=table['lon'],\n",
    "    lat=table['lat'],\n",
    "    hoverinfo='text',\n",
    "    text=table['Place'],\n",
    "    mode='markers',\n",
    "    marker=dict(\n",
    "      size=8,\n",
    "      color='Red'\n",
    "    )\n",
    "  )\n",
    ")\n",
    "\n",
    "fig.update_layout(title = 'Travel map 2022', \n",
    "                  title_x=0.5,\n",
    "                  geo=dict(\n",
    "                    showland=True,\n",
    "                    showcountries=True,\n",
    "                    showocean=True,\n",
    "                    oceancolor = 'rgb(100,150,250)',\n",
    "                    landcolor = 'rgb(255,255,255)')\n",
    "                )\n",
    "fig.update_geos(fitbounds=\"locations\")\n",
    "fig.show()"
   ]
  }
 ],
 "metadata": {
  "interpreter": {
   "hash": "fa75a4c70c649ad1f40727d2f77fdf697d6dc67086101189351a6e5ed7f96439"
  },
  "kernelspec": {
   "display_name": "Python 3.8.8 ('DAISE')",
   "language": "python",
   "name": "python3"
  },
  "language_info": {
   "codemirror_mode": {
    "name": "ipython",
    "version": 3
   },
   "file_extension": ".py",
   "mimetype": "text/x-python",
   "name": "python",
   "nbconvert_exporter": "python",
   "pygments_lexer": "ipython3",
   "version": "3.8.8"
  },
  "orig_nbformat": 4
 },
 "nbformat": 4,
 "nbformat_minor": 2
}
